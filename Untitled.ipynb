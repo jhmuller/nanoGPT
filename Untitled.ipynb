{
 "cells": [
  {
   "cell_type": "code",
   "execution_count": 8,
   "id": "984c4fbb-821f-44fb-9566-5eef323920ea",
   "metadata": {},
   "outputs": [
    {
     "name": "stdout",
     "output_type": "stream",
     "text": [
      "| ID | GPU | MEM |\n",
      "------------------\n",
      "|  0 |  2% |  5% |\n"
     ]
    }
   ],
   "source": [
    "import GPUtil\n",
    "GPUtil.getAvailable()\n",
    "GPUtil.showUtilization()"
   ]
  },
  {
   "cell_type": "code",
   "execution_count": 9,
   "id": "ddf0a36b-9cb0-4a61-82eb-fa079a58129e",
   "metadata": {},
   "outputs": [
    {
     "name": "stdout",
     "output_type": "stream",
     "text": [
      "Collecting torchinfo\n",
      "  Downloading torchinfo-1.8.0-py3-none-any.whl (23 kB)\n",
      "Installing collected packages: torchinfo\n",
      "Successfully installed torchinfo-1.8.0\n"
     ]
    }
   ],
   "source": [
    "!pip install torchinfo"
   ]
  },
  {
   "cell_type": "code",
   "execution_count": 4,
   "id": "8055d17d-dcc2-43fb-9ba4-3e5219ec4534",
   "metadata": {},
   "outputs": [],
   "source": [
    "import torch"
   ]
  },
  {
   "cell_type": "code",
   "execution_count": 16,
   "id": "8d499cd3-b565-45c9-b012-2dfb61cbced8",
   "metadata": {},
   "outputs": [
    {
     "data": {
      "text/plain": [
       "True"
      ]
     },
     "execution_count": 16,
     "metadata": {},
     "output_type": "execute_result"
    }
   ],
   "source": [
    "use_cuda = torch.cuda.is_available()\n",
    "use_cuda"
   ]
  },
  {
   "cell_type": "code",
   "execution_count": 13,
   "id": "72b85294-6401-4518-82a3-bc8e441e8d8b",
   "metadata": {},
   "outputs": [],
   "source": [
    "import torchinfo as ti"
   ]
  },
  {
   "cell_type": "code",
   "execution_count": 15,
   "id": "b61bc68e-a535-4da0-822b-994c3f5e1801",
   "metadata": {},
   "outputs": [
    {
     "data": {
      "text/plain": [
       "['ColumnSettings',\n",
       " 'Mode',\n",
       " 'ModelStatistics',\n",
       " 'RowSettings',\n",
       " 'Units',\n",
       " 'Verbosity',\n",
       " '__all__',\n",
       " '__builtins__',\n",
       " '__cached__',\n",
       " '__doc__',\n",
       " '__file__',\n",
       " '__loader__',\n",
       " '__name__',\n",
       " '__package__',\n",
       " '__path__',\n",
       " '__spec__',\n",
       " '__version__',\n",
       " 'enums',\n",
       " 'formatting',\n",
       " 'layer_info',\n",
       " 'model_statistics',\n",
       " 'summary',\n",
       " 'torchinfo']"
      ]
     },
     "execution_count": 15,
     "metadata": {},
     "output_type": "execute_result"
    }
   ],
   "source": [
    "dir(torchinfo)"
   ]
  },
  {
   "cell_type": "code",
   "execution_count": null,
   "id": "13f31bdb-209f-4f7e-878e-861133fb7a5a",
   "metadata": {},
   "outputs": [],
   "source": []
  }
 ],
 "metadata": {
  "kernelspec": {
   "display_name": "transformer",
   "language": "python",
   "name": "transformer"
  },
  "language_info": {
   "codemirror_mode": {
    "name": "ipython",
    "version": 3
   },
   "file_extension": ".py",
   "mimetype": "text/x-python",
   "name": "python",
   "nbconvert_exporter": "python",
   "pygments_lexer": "ipython3",
   "version": "3.8.8"
  }
 },
 "nbformat": 4,
 "nbformat_minor": 5
}
